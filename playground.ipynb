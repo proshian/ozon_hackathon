{
 "cells": [
  {
   "cell_type": "code",
   "execution_count": 14,
   "metadata": {
    "ExecuteTime": {
     "end_time": "2023-05-19T06:10:23.678400Z",
     "start_time": "2023-05-19T06:10:16.503064Z"
    }
   },
   "outputs": [],
   "source": [
    "import json\n",
    "from functools import partial\n",
    "from typing import List\n",
    "\n",
    "import matplotlib.pyplot as plt\n",
    "import numpy as np\n",
    "import pandas as pd\n",
    "import seaborn as sns\n",
    "from catboost import CatBoostClassifier, Pool\n",
    "from catboost.utils import eval_metric\n",
    "from scipy.spatial.distance import cosine, euclidean\n",
    "from sklearn.metrics import pairwise_distances\n",
    "from sklearn.model_selection import train_test_split"
   ]
  },
  {
   "cell_type": "markdown",
   "metadata": {},
   "source": [
    "### Load data"
   ]
  },
  {
   "cell_type": "code",
   "execution_count": 15,
   "metadata": {
    "ExecuteTime": {
     "end_time": "2023-05-19T06:12:05.012452Z",
     "start_time": "2023-05-19T06:11:27.878101Z"
    }
   },
   "outputs": [],
   "source": [
    "dataset = pd.read_parquet(\"hackathon_files_for_participants_ozon/train_pairs.parquet\")\n",
    "etl = pd.read_parquet(\"hackathon_files_for_participants_ozon/train_data.parquet\")"
   ]
  },
  {
   "cell_type": "code",
   "execution_count": 16,
   "metadata": {
    "ExecuteTime": {
     "end_time": "2023-05-19T06:12:07.891757Z",
     "start_time": "2023-05-19T06:12:07.868318Z"
    }
   },
   "outputs": [
    {
     "data": {
      "text/html": [
       "<div>\n",
       "<style scoped>\n",
       "    .dataframe tbody tr th:only-of-type {\n",
       "        vertical-align: middle;\n",
       "    }\n",
       "\n",
       "    .dataframe tbody tr th {\n",
       "        vertical-align: top;\n",
       "    }\n",
       "\n",
       "    .dataframe thead th {\n",
       "        text-align: right;\n",
       "    }\n",
       "</style>\n",
       "<table border=\"1\" class=\"dataframe\">\n",
       "  <thead>\n",
       "    <tr style=\"text-align: right;\">\n",
       "      <th></th>\n",
       "      <th>target</th>\n",
       "      <th>variantid1</th>\n",
       "      <th>variantid2</th>\n",
       "    </tr>\n",
       "  </thead>\n",
       "  <tbody>\n",
       "    <tr>\n",
       "      <th>0</th>\n",
       "      <td>0.0</td>\n",
       "      <td>51197862</td>\n",
       "      <td>51198054</td>\n",
       "    </tr>\n",
       "    <tr>\n",
       "      <th>1</th>\n",
       "      <td>1.0</td>\n",
       "      <td>53062686</td>\n",
       "      <td>536165289</td>\n",
       "    </tr>\n",
       "  </tbody>\n",
       "</table>\n",
       "</div>"
      ],
      "text/plain": [
       "   target  variantid1  variantid2\n",
       "0     0.0    51197862    51198054\n",
       "1     1.0    53062686   536165289"
      ]
     },
     "execution_count": 16,
     "metadata": {},
     "output_type": "execute_result"
    }
   ],
   "source": [
    "dataset.head(2)"
   ]
  },
  {
   "cell_type": "code",
   "execution_count": 17,
   "metadata": {
    "ExecuteTime": {
     "end_time": "2023-05-19T06:12:20.476738Z",
     "start_time": "2023-05-19T06:12:20.458918Z"
    }
   },
   "outputs": [
    {
     "data": {
      "text/plain": [
       "0.0    171527\n",
       "1.0    135013\n",
       "Name: target, dtype: int64"
      ]
     },
     "execution_count": 17,
     "metadata": {},
     "output_type": "execute_result"
    }
   ],
   "source": [
    "dataset[\"target\"].value_counts()"
   ]
  },
  {
   "cell_type": "code",
   "execution_count": 18,
   "metadata": {
    "ExecuteTime": {
     "end_time": "2023-05-19T06:12:27.245184Z",
     "start_time": "2023-05-19T06:12:27.228294Z"
    }
   },
   "outputs": [
    {
     "data": {
      "text/html": [
       "<div>\n",
       "<style scoped>\n",
       "    .dataframe tbody tr th:only-of-type {\n",
       "        vertical-align: middle;\n",
       "    }\n",
       "\n",
       "    .dataframe tbody tr th {\n",
       "        vertical-align: top;\n",
       "    }\n",
       "\n",
       "    .dataframe thead th {\n",
       "        text-align: right;\n",
       "    }\n",
       "</style>\n",
       "<table border=\"1\" class=\"dataframe\">\n",
       "  <thead>\n",
       "    <tr style=\"text-align: right;\">\n",
       "      <th></th>\n",
       "      <th>variantid</th>\n",
       "      <th>name</th>\n",
       "      <th>categories</th>\n",
       "      <th>color_parsed</th>\n",
       "      <th>pic_embeddings_resnet_v1</th>\n",
       "      <th>main_pic_embeddings_resnet_v1</th>\n",
       "      <th>name_bert_64</th>\n",
       "      <th>characteristic_attributes_mapping</th>\n",
       "    </tr>\n",
       "  </thead>\n",
       "  <tbody>\n",
       "    <tr>\n",
       "      <th>0</th>\n",
       "      <td>51195767</td>\n",
       "      <td>Удлинитель Партнер-Электро ПВС 2х0,75 ГОСТ,6A,...</td>\n",
       "      <td>{\"1\": \"EPG\", \"2\": \"Электроника\", \"3\": \"Сетевые...</td>\n",
       "      <td>[оранжевый]</td>\n",
       "      <td>None</td>\n",
       "      <td>[[0.04603629, 0.18839523, -0.09973055, -0.6636...</td>\n",
       "      <td>[-0.47045058, 0.67237014, 0.48984158, -0.54485...</td>\n",
       "      <td>{\"Номинальный ток, А\":[\"10\"],\"Цвет товара\":[\"о...</td>\n",
       "    </tr>\n",
       "    <tr>\n",
       "      <th>1</th>\n",
       "      <td>53565809</td>\n",
       "      <td>Магнитный кабель USB 2.0 A (m) - USB Type-C (m...</td>\n",
       "      <td>{\"1\": \"EPG\", \"2\": \"Электроника\", \"3\": \"Кабели ...</td>\n",
       "      <td>[красный]</td>\n",
       "      <td>[[0.26863545, -0.3130674, 0.29023397, 0.073978...</td>\n",
       "      <td>[[1.1471839, -0.665361, 0.7745614, 0.26716197,...</td>\n",
       "      <td>[-0.6575592, 0.6522429, 0.5426037, -0.54347897...</td>\n",
       "      <td>{\"Конструктивные особенности\":[\"Магнитная конс...</td>\n",
       "    </tr>\n",
       "  </tbody>\n",
       "</table>\n",
       "</div>"
      ],
      "text/plain": [
       "   variantid                                               name  \\\n",
       "0   51195767  Удлинитель Партнер-Электро ПВС 2х0,75 ГОСТ,6A,...   \n",
       "1   53565809  Магнитный кабель USB 2.0 A (m) - USB Type-C (m...   \n",
       "\n",
       "                                          categories color_parsed  \\\n",
       "0  {\"1\": \"EPG\", \"2\": \"Электроника\", \"3\": \"Сетевые...  [оранжевый]   \n",
       "1  {\"1\": \"EPG\", \"2\": \"Электроника\", \"3\": \"Кабели ...    [красный]   \n",
       "\n",
       "                            pic_embeddings_resnet_v1  \\\n",
       "0                                               None   \n",
       "1  [[0.26863545, -0.3130674, 0.29023397, 0.073978...   \n",
       "\n",
       "                       main_pic_embeddings_resnet_v1  \\\n",
       "0  [[0.04603629, 0.18839523, -0.09973055, -0.6636...   \n",
       "1  [[1.1471839, -0.665361, 0.7745614, 0.26716197,...   \n",
       "\n",
       "                                        name_bert_64  \\\n",
       "0  [-0.47045058, 0.67237014, 0.48984158, -0.54485...   \n",
       "1  [-0.6575592, 0.6522429, 0.5426037, -0.54347897...   \n",
       "\n",
       "                   characteristic_attributes_mapping  \n",
       "0  {\"Номинальный ток, А\":[\"10\"],\"Цвет товара\":[\"о...  \n",
       "1  {\"Конструктивные особенности\":[\"Магнитная конс...  "
      ]
     },
     "execution_count": 18,
     "metadata": {},
     "output_type": "execute_result"
    }
   ],
   "source": [
    "etl.head(2)"
   ]
  },
  {
   "cell_type": "markdown",
   "metadata": {},
   "source": [
    "Get raw data for each variantid."
   ]
  },
  {
   "cell_type": "code",
   "execution_count": 19,
   "metadata": {
    "ExecuteTime": {
     "end_time": "2023-05-19T06:13:06.702876Z",
     "start_time": "2023-05-19T06:13:03.688111Z"
    }
   },
   "outputs": [],
   "source": [
    "features = (\n",
    "    dataset\n",
    "    .merge(\n",
    "        etl\n",
    "        .add_suffix('1'),\n",
    "        on=\"variantid1\"\n",
    "    )\n",
    "    .merge(\n",
    "        etl\n",
    "        .add_suffix('2'),\n",
    "        on=\"variantid2\"\n",
    "    )\n",
    ")"
   ]
  },
  {
   "cell_type": "code",
   "execution_count": 20,
   "metadata": {
    "ExecuteTime": {
     "end_time": "2023-05-19T06:13:09.645490Z",
     "start_time": "2023-05-19T06:13:09.620414Z"
    }
   },
   "outputs": [
    {
     "data": {
      "text/html": [
       "<div>\n",
       "<style scoped>\n",
       "    .dataframe tbody tr th:only-of-type {\n",
       "        vertical-align: middle;\n",
       "    }\n",
       "\n",
       "    .dataframe tbody tr th {\n",
       "        vertical-align: top;\n",
       "    }\n",
       "\n",
       "    .dataframe thead th {\n",
       "        text-align: right;\n",
       "    }\n",
       "</style>\n",
       "<table border=\"1\" class=\"dataframe\">\n",
       "  <thead>\n",
       "    <tr style=\"text-align: right;\">\n",
       "      <th></th>\n",
       "      <th>target</th>\n",
       "      <th>variantid1</th>\n",
       "      <th>variantid2</th>\n",
       "      <th>name1</th>\n",
       "      <th>categories1</th>\n",
       "      <th>color_parsed1</th>\n",
       "      <th>pic_embeddings_resnet_v11</th>\n",
       "      <th>main_pic_embeddings_resnet_v11</th>\n",
       "      <th>name_bert_641</th>\n",
       "      <th>characteristic_attributes_mapping1</th>\n",
       "      <th>name2</th>\n",
       "      <th>categories2</th>\n",
       "      <th>color_parsed2</th>\n",
       "      <th>pic_embeddings_resnet_v12</th>\n",
       "      <th>main_pic_embeddings_resnet_v12</th>\n",
       "      <th>name_bert_642</th>\n",
       "      <th>characteristic_attributes_mapping2</th>\n",
       "    </tr>\n",
       "  </thead>\n",
       "  <tbody>\n",
       "    <tr>\n",
       "      <th>0</th>\n",
       "      <td>0.0</td>\n",
       "      <td>51197862</td>\n",
       "      <td>51198054</td>\n",
       "      <td>Удлинитель TDM Electric Люкс УЛ05В 5 м (SQ1303...</td>\n",
       "      <td>{\"1\": \"EPG\", \"2\": \"Электроника\", \"3\": \"Сетевые...</td>\n",
       "      <td>[белый]</td>\n",
       "      <td>None</td>\n",
       "      <td>[[-0.4304909, -0.49474272, -0.46439183, -0.060...</td>\n",
       "      <td>[-0.5104684, 0.56158644, 0.58873796, -0.529718...</td>\n",
       "      <td>{\"Число жил\":[\"3\"],\"Макс. нагрузка, Вт\":[\"3500...</td>\n",
       "      <td>Удлинитель TDM Electric Люкс УЛ05В 1.5 м (SQ13...</td>\n",
       "      <td>{\"1\": \"EPG\", \"2\": \"Электроника\", \"3\": \"Сетевые...</td>\n",
       "      <td>[белый]</td>\n",
       "      <td>None</td>\n",
       "      <td>[[-0.42941108, -0.5129398, -0.4753536, -0.0677...</td>\n",
       "      <td>[-0.455473, 0.58157134, 0.5870387, -0.5325003,...</td>\n",
       "      <td>{\"Электробезопасность\":[\"Заземление\"],\"Длина к...</td>\n",
       "    </tr>\n",
       "    <tr>\n",
       "      <th>1</th>\n",
       "      <td>0.0</td>\n",
       "      <td>51197862</td>\n",
       "      <td>51199884</td>\n",
       "      <td>Удлинитель TDM Electric Люкс УЛ05В 5 м (SQ1303...</td>\n",
       "      <td>{\"1\": \"EPG\", \"2\": \"Электроника\", \"3\": \"Сетевые...</td>\n",
       "      <td>[белый]</td>\n",
       "      <td>None</td>\n",
       "      <td>[[-0.4304909, -0.49474272, -0.46439183, -0.060...</td>\n",
       "      <td>[-0.5104684, 0.56158644, 0.58873796, -0.529718...</td>\n",
       "      <td>{\"Число жил\":[\"3\"],\"Макс. нагрузка, Вт\":[\"3500...</td>\n",
       "      <td>Удлинитель TDM Electric Люкс УЛ05В 3 м (SQ1303...</td>\n",
       "      <td>{\"1\": \"EPG\", \"2\": \"Электроника\", \"3\": \"Сетевые...</td>\n",
       "      <td>[белый]</td>\n",
       "      <td>None</td>\n",
       "      <td>[[-0.43180764, -0.49580905, -0.5062628, -0.130...</td>\n",
       "      <td>[-0.5425725, 0.6415736, 0.51481575, -0.5687392...</td>\n",
       "      <td>{\"Макс. нагрузка, Вт\":[\"3500\"],\"Стандарт защит...</td>\n",
       "    </tr>\n",
       "  </tbody>\n",
       "</table>\n",
       "</div>"
      ],
      "text/plain": [
       "   target  variantid1  variantid2  \\\n",
       "0     0.0    51197862    51198054   \n",
       "1     0.0    51197862    51199884   \n",
       "\n",
       "                                               name1  \\\n",
       "0  Удлинитель TDM Electric Люкс УЛ05В 5 м (SQ1303...   \n",
       "1  Удлинитель TDM Electric Люкс УЛ05В 5 м (SQ1303...   \n",
       "\n",
       "                                         categories1 color_parsed1  \\\n",
       "0  {\"1\": \"EPG\", \"2\": \"Электроника\", \"3\": \"Сетевые...       [белый]   \n",
       "1  {\"1\": \"EPG\", \"2\": \"Электроника\", \"3\": \"Сетевые...       [белый]   \n",
       "\n",
       "  pic_embeddings_resnet_v11  \\\n",
       "0                      None   \n",
       "1                      None   \n",
       "\n",
       "                      main_pic_embeddings_resnet_v11  \\\n",
       "0  [[-0.4304909, -0.49474272, -0.46439183, -0.060...   \n",
       "1  [[-0.4304909, -0.49474272, -0.46439183, -0.060...   \n",
       "\n",
       "                                       name_bert_641  \\\n",
       "0  [-0.5104684, 0.56158644, 0.58873796, -0.529718...   \n",
       "1  [-0.5104684, 0.56158644, 0.58873796, -0.529718...   \n",
       "\n",
       "                  characteristic_attributes_mapping1  \\\n",
       "0  {\"Число жил\":[\"3\"],\"Макс. нагрузка, Вт\":[\"3500...   \n",
       "1  {\"Число жил\":[\"3\"],\"Макс. нагрузка, Вт\":[\"3500...   \n",
       "\n",
       "                                               name2  \\\n",
       "0  Удлинитель TDM Electric Люкс УЛ05В 1.5 м (SQ13...   \n",
       "1  Удлинитель TDM Electric Люкс УЛ05В 3 м (SQ1303...   \n",
       "\n",
       "                                         categories2 color_parsed2  \\\n",
       "0  {\"1\": \"EPG\", \"2\": \"Электроника\", \"3\": \"Сетевые...       [белый]   \n",
       "1  {\"1\": \"EPG\", \"2\": \"Электроника\", \"3\": \"Сетевые...       [белый]   \n",
       "\n",
       "  pic_embeddings_resnet_v12  \\\n",
       "0                      None   \n",
       "1                      None   \n",
       "\n",
       "                      main_pic_embeddings_resnet_v12  \\\n",
       "0  [[-0.42941108, -0.5129398, -0.4753536, -0.0677...   \n",
       "1  [[-0.43180764, -0.49580905, -0.5062628, -0.130...   \n",
       "\n",
       "                                       name_bert_642  \\\n",
       "0  [-0.455473, 0.58157134, 0.5870387, -0.5325003,...   \n",
       "1  [-0.5425725, 0.6415736, 0.51481575, -0.5687392...   \n",
       "\n",
       "                  characteristic_attributes_mapping2  \n",
       "0  {\"Электробезопасность\":[\"Заземление\"],\"Длина к...  \n",
       "1  {\"Макс. нагрузка, Вт\":[\"3500\"],\"Стандарт защит...  "
      ]
     },
     "execution_count": 20,
     "metadata": {},
     "output_type": "execute_result"
    }
   ],
   "source": [
    "features.head(2)"
   ]
  },
  {
   "cell_type": "markdown",
   "metadata": {},
   "source": [
    "Features functions."
   ]
  },
  {
   "cell_type": "code",
   "execution_count": 21,
   "metadata": {
    "ExecuteTime": {
     "end_time": "2023-05-19T06:14:03.019463Z",
     "start_time": "2023-05-19T06:14:03.002869Z"
    }
   },
   "outputs": [],
   "source": [
    "def get_pic_features(main_pic_embeddings_1,\n",
    "                     main_pic_embeddings_2,\n",
    "                     percentiles: List[int]):\n",
    "    \"\"\"Calculate distances percentiles for \n",
    "    pairwise pic distances. Percentiles are useful \n",
    "    when product has several pictures.\n",
    "    \"\"\"\n",
    "    \n",
    "    if main_pic_embeddings_1 is not None and main_pic_embeddings_2 is not None:\n",
    "        main_pic_embeddings_1 = np.array([x for x in main_pic_embeddings_1])\n",
    "        main_pic_embeddings_2 = np.array([x for x in main_pic_embeddings_2])\n",
    "        \n",
    "        dist_m = pairwise_distances(\n",
    "            main_pic_embeddings_1, main_pic_embeddings_2\n",
    "        )\n",
    "    else:\n",
    "        dist_m = np.array([[-1]])\n",
    "\n",
    "    pair_features = []\n",
    "    pair_features += np.percentile(dist_m, percentiles).tolist()\n",
    "\n",
    "    return pair_features\n",
    "\n",
    "\n",
    "def text_dense_distances(ozon_embedding, comp_embedding):\n",
    "    \"\"\"Calculate Euclidean and Cosine distances between\n",
    "    ozon_embedding and comp_embedding.\n",
    "    \"\"\"\n",
    "    pair_features = []\n",
    "    if ozon_embedding is None or comp_embedding is None:\n",
    "        pair_features = [-1, -1]\n",
    "    elif len(ozon_embedding) == 0 or len(comp_embedding) == 0:\n",
    "        pair_features = [-1, -1]\n",
    "    else:\n",
    "        pair_features.append(\n",
    "            euclidean(ozon_embedding, comp_embedding)\n",
    "        )\n",
    "        cosine_value = cosine(ozon_embedding, comp_embedding)\n",
    "        \n",
    "        pair_features.append(cosine_value)\n",
    "\n",
    "    return pair_features\n"
   ]
  },
  {
   "cell_type": "code",
   "execution_count": 22,
   "metadata": {
    "ExecuteTime": {
     "end_time": "2023-05-19T06:14:25.968001Z",
     "start_time": "2023-05-19T06:14:25.965711Z"
    }
   },
   "outputs": [],
   "source": [
    "get_pic_features_func = partial(\n",
    "    get_pic_features,\n",
    "    percentiles=[0, 25, 50]\n",
    ")"
   ]
  },
  {
   "cell_type": "code",
   "execution_count": 23,
   "metadata": {
    "ExecuteTime": {
     "end_time": "2023-05-19T06:17:05.936723Z",
     "start_time": "2023-05-19T06:14:27.944747Z"
    }
   },
   "outputs": [],
   "source": [
    "features[[\"pic_dist_0_perc\", \"pic_dist_25_perc\", \"pic_dist_50_perc\"]] = (\n",
    "    features[[\"pic_embeddings_resnet_v11\", \"pic_embeddings_resnet_v12\"]].apply(\n",
    "        lambda x: pd.Series(get_pic_features_func(*x)), axis=1\n",
    "    )\n",
    ")\n",
    "\n",
    "# btw try to add distances between main pic embs"
   ]
  },
  {
   "cell_type": "code",
   "execution_count": 24,
   "metadata": {
    "ExecuteTime": {
     "end_time": "2023-05-19T06:18:48.810761Z",
     "start_time": "2023-05-19T06:17:26.418017Z"
    }
   },
   "outputs": [],
   "source": [
    "features[[\"euclidean_name_bert_dist\", \"cosine_name_bert_dist\"]] = (\n",
    "    features[[\"name_bert_641\", \"name_bert_642\"]].apply(\n",
    "        lambda x: pd.Series(text_dense_distances(*x)), axis=1\n",
    "    )\n",
    ")\n",
    "\n",
    "# try to use your favorite NLP model"
   ]
  },
  {
   "cell_type": "code",
   "execution_count": 25,
   "metadata": {
    "ExecuteTime": {
     "end_time": "2023-05-19T06:28:28.028773Z",
     "start_time": "2023-05-19T06:28:27.086139Z"
    }
   },
   "outputs": [],
   "source": [
    "features[\"cat3\"] = features[\"categories1\"].apply(lambda x: json.loads(x)[\"3\"])\n",
    "cat3_counts = features[\"cat3\"].value_counts().to_dict()"
   ]
  },
  {
   "cell_type": "markdown",
   "metadata": {},
   "source": [
    "Let's find good cat size threshold"
   ]
  },
  {
   "cell_type": "code",
   "execution_count": 26,
   "metadata": {
    "ExecuteTime": {
     "end_time": "2023-05-19T06:28:30.630458Z",
     "start_time": "2023-05-19T06:28:30.624296Z"
    }
   },
   "outputs": [
    {
     "data": {
      "text/plain": [
       "10765"
      ]
     },
     "execution_count": 26,
     "metadata": {},
     "output_type": "execute_result"
    }
   ],
   "source": [
    "cntr = 0\n",
    "for cat3 in cat3_counts:\n",
    "    if cat3_counts[cat3] < 1_000:\n",
    "        cntr += cat3_counts[cat3]\n",
    "        \n",
    "cntr"
   ]
  },
  {
   "cell_type": "markdown",
   "metadata": {},
   "source": [
    "10k for \"rest\" cats probably is good"
   ]
  },
  {
   "cell_type": "code",
   "execution_count": 27,
   "metadata": {
    "ExecuteTime": {
     "end_time": "2023-05-19T06:28:36.996792Z",
     "start_time": "2023-05-19T06:28:36.896447Z"
    }
   },
   "outputs": [],
   "source": [
    "features[\"cat3_grouped\"] = features[\"cat3\"].apply(lambda x: x if cat3_counts[x] > 1000 else \"rest\")"
   ]
  },
  {
   "cell_type": "markdown",
   "metadata": {},
   "source": [
    "Choose features"
   ]
  },
  {
   "cell_type": "code",
   "execution_count": 28,
   "metadata": {
    "ExecuteTime": {
     "end_time": "2023-05-19T06:28:45.696151Z",
     "start_time": "2023-05-19T06:28:45.692484Z"
    }
   },
   "outputs": [],
   "source": [
    "feats = [\"pic_dist_0_perc\", \"pic_dist_25_perc\", \"pic_dist_50_perc\", \n",
    "         \"euclidean_name_bert_dist\", \"cosine_name_bert_dist\"]"
   ]
  },
  {
   "cell_type": "markdown",
   "metadata": {},
   "source": [
    "Split dataset"
   ]
  },
  {
   "cell_type": "code",
   "execution_count": 29,
   "metadata": {
    "ExecuteTime": {
     "end_time": "2023-05-19T06:29:01.923278Z",
     "start_time": "2023-05-19T06:28:54.101554Z"
    }
   },
   "outputs": [],
   "source": [
    "X_train, X_test = train_test_split(\n",
    "    features[feats + [\"target\", \"variantid1\", \"variantid2\", \"cat3_grouped\"]], \n",
    "    test_size=0.1, random_state=42, stratify=features[[\"target\", \"cat3_grouped\"]]\n",
    ")\n",
    "\n",
    "X_train, X_val = train_test_split(\n",
    "    X_train[feats + [\"target\",  \"variantid1\", \"variantid2\", \"cat3_grouped\"]], \n",
    "    test_size=0.1, random_state=42, stratify=X_train[[\"target\", \"cat3_grouped\"]]\n",
    ")\n",
    "\n",
    "y_test = X_test[[\"target\", \"variantid1\", \"variantid2\"]]\n",
    "X_test = X_test.drop([\"target\"], axis=1)\n",
    "\n",
    "y_train = X_train[\"target\"]\n",
    "y_val = X_val[\"target\"]\n",
    "\n",
    "X_train = X_train.drop([\"target\"], axis=1)\n",
    "X_val = X_val.drop([\"target\"], axis=1)\n",
    "\n",
    "\n",
    "train_pool = Pool(\n",
    "    data=X_train[feats],\n",
    "    label=y_train,\n",
    ")\n",
    "eval_pool = Pool(\n",
    "    data=X_val[feats],\n",
    "    label=y_val,\n",
    ")"
   ]
  },
  {
   "cell_type": "markdown",
   "metadata": {},
   "source": [
    "Train model"
   ]
  },
  {
   "cell_type": "code",
   "execution_count": 30,
   "metadata": {
    "ExecuteTime": {
     "end_time": "2023-05-19T06:29:24.898318Z",
     "start_time": "2023-05-19T06:29:07.544816Z"
    },
    "scrolled": true
   },
   "outputs": [
    {
     "data": {
      "application/vnd.jupyter.widget-view+json": {
       "model_id": "088d1c45de814c59b8d4746c2936c0f0",
       "version_major": 2,
       "version_minor": 0
      },
      "text/plain": [
       "MetricVisualizer(layout=Layout(align_self='stretch', height='500px'))"
      ]
     },
     "metadata": {},
     "output_type": "display_data"
    },
    {
     "name": "stdout",
     "output_type": "stream",
     "text": [
      "Learning rate set to 0.123728\n",
      "0:\tlearn: 0.6776210\ttest: 0.6768128\tbest: 0.6768128 (0)\ttotal: 86.4ms\tremaining: 1m 26s\n"
     ]
    },
    {
     "name": "stderr",
     "output_type": "stream",
     "text": [
      "Warning: Overfitting detector is active, thus evaluation metric is calculated on every iteration. 'metric_period' is ignored for evaluation metric.\n"
     ]
    },
    {
     "name": "stdout",
     "output_type": "stream",
     "text": [
      "100:\tlearn: 0.5913640\ttest: 0.5877234\tbest: 0.5877234 (100)\ttotal: 1.7s\tremaining: 15.1s\n",
      "200:\tlearn: 0.5821905\ttest: 0.5800420\tbest: 0.5800420 (200)\ttotal: 3.37s\tremaining: 13.4s\n",
      "300:\tlearn: 0.5772483\ttest: 0.5773221\tbest: 0.5773221 (300)\ttotal: 5.02s\tremaining: 11.7s\n",
      "400:\tlearn: 0.5734987\ttest: 0.5755935\tbest: 0.5755935 (400)\ttotal: 6.68s\tremaining: 9.98s\n",
      "500:\tlearn: 0.5701996\ttest: 0.5743711\tbest: 0.5743711 (500)\ttotal: 8.33s\tremaining: 8.3s\n",
      "600:\tlearn: 0.5673748\ttest: 0.5733671\tbest: 0.5733604 (592)\ttotal: 9.99s\tremaining: 6.63s\n",
      "700:\tlearn: 0.5647954\ttest: 0.5727211\tbest: 0.5727192 (698)\ttotal: 11.7s\tremaining: 4.98s\n",
      "800:\tlearn: 0.5623008\ttest: 0.5721741\tbest: 0.5721532 (799)\ttotal: 13.3s\tremaining: 3.31s\n",
      "900:\tlearn: 0.5600226\ttest: 0.5715779\tbest: 0.5715779 (900)\ttotal: 15s\tremaining: 1.64s\n",
      "999:\tlearn: 0.5578650\ttest: 0.5711372\tbest: 0.5711299 (996)\ttotal: 16.6s\tremaining: 0us\n",
      "\n",
      "bestTest = 0.5711299253\n",
      "bestIteration = 996\n",
      "\n",
      "Shrink model to first 997 iterations.\n"
     ]
    }
   ],
   "source": [
    "model = CatBoostClassifier()\n",
    "\n",
    "model.fit(\n",
    "    train_pool,\n",
    "    eval_set=eval_pool,\n",
    "    plot=True,\n",
    "    verbose=True,\n",
    "    use_best_model=True,\n",
    "    early_stopping_rounds=50,\n",
    "    metric_period=100\n",
    ")\n",
    "model.save_model(f\"./models/baseline.cbm\")"
   ]
  },
  {
   "cell_type": "markdown",
   "metadata": {},
   "source": [
    "### Metric"
   ]
  },
  {
   "cell_type": "code",
   "execution_count": 31,
   "metadata": {
    "ExecuteTime": {
     "end_time": "2023-05-19T06:30:10.884083Z",
     "start_time": "2023-05-19T06:30:10.873141Z"
    },
    "code_folding": []
   },
   "outputs": [],
   "source": [
    "import numpy as np\n",
    "from sklearn.metrics import precision_recall_curve, auc\n",
    "\n",
    "\n",
    "def pr_auc_macro(\n",
    "    target_df: pd.DataFrame,\n",
    "    predictions_df: pd.DataFrame,\n",
    "    prec_level: float = 0.75,\n",
    "    cat_column: str = \"cat3_grouped\"\n",
    ") -> float:\n",
    "    \n",
    "    df = target_df.merge(predictions_df, on=[\"variantid1\", \"variantid2\"])\n",
    "    \n",
    "    y_true = df[\"target\"]\n",
    "    y_pred = df[\"scores\"]\n",
    "    categories = df[cat_column]\n",
    "    \n",
    "    weights = []\n",
    "    pr_aucs = []\n",
    "\n",
    "    unique_cats, counts = np.unique(categories, return_counts=True)\n",
    "\n",
    "    for i, category in enumerate(unique_cats):\n",
    "        cat_idx = np.where(categories == category)[0]\n",
    "        y_pred_cat = y_pred[cat_idx]\n",
    "        y_true_cat = y_true[cat_idx]\n",
    "\n",
    "        y, x, thr = precision_recall_curve(y_true_cat, y_pred_cat)\n",
    "        gt_prec_level_idx = np.where(y >= prec_level)[0]\n",
    "\n",
    "        try:\n",
    "            pr_auc_prec_level = auc(x[gt_prec_level_idx], y[gt_prec_level_idx])\n",
    "            if not np.isnan(pr_auc_prec_level):\n",
    "                pr_aucs.append(pr_auc_prec_level)\n",
    "                weights.append(counts[i] / len(categories))\n",
    "        except ValueError as err:\n",
    "            pr_aucs.append(0)\n",
    "            weights.append(0)\n",
    "    return np.average(pr_aucs, weights=weights)"
   ]
  },
  {
   "cell_type": "code",
   "execution_count": 32,
   "metadata": {
    "ExecuteTime": {
     "end_time": "2023-05-19T06:30:13.294341Z",
     "start_time": "2023-05-19T06:30:13.258507Z"
    }
   },
   "outputs": [],
   "source": [
    "X_test[\"scores\"] = model.predict_proba(X_test[feats])[:, 1]"
   ]
  },
  {
   "cell_type": "code",
   "execution_count": 33,
   "metadata": {
    "ExecuteTime": {
     "end_time": "2023-05-19T06:30:28.980002Z",
     "start_time": "2023-05-19T06:30:28.331803Z"
    }
   },
   "outputs": [
    {
     "data": {
      "text/plain": [
       "0.2503604484969638"
      ]
     },
     "execution_count": 33,
     "metadata": {},
     "output_type": "execute_result"
    }
   ],
   "source": [
    "pr_auc_macro_metr = pr_auc_macro(\n",
    "    target_df=y_test, \n",
    "    predictions_df=X_test,\n",
    "    prec_level=0.75,\n",
    "    cat_column=\"cat3_grouped\"\n",
    ")\n",
    "\n",
    "pr_auc_macro_metr"
   ]
  },
  {
   "cell_type": "code",
   "execution_count": 34,
   "metadata": {
    "ExecuteTime": {
     "end_time": "2023-05-19T06:30:42.074029Z",
     "start_time": "2023-05-19T06:30:41.619959Z"
    }
   },
   "outputs": [
    {
     "data": {
      "image/png": "[encoded data removed]",
      "text/plain": [
       "<Figure size 1080x504 with 1 Axes>"
      ]
     },
     "metadata": {
      "needs_background": "light"
     },
     "output_type": "display_data"
    }
   ],
   "source": [
    "precision, recall, thrs = precision_recall_curve(y_test[\"target\"], X_test[\"scores\"])\n",
    "pr_auc = auc(recall, precision)\n",
    "\n",
    "fig, ax1 = plt.subplots(1, figsize=(15, 7))\n",
    "\n",
    "ax1.plot(recall, precision)\n",
    "ax1.axhline(y=0.75, color='grey', linestyle='-');"
   ]
  },
  {
   "cell_type": "markdown",
   "metadata": {},
   "source": [
    "### Submission"
   ]
  },
  {
   "cell_type": "code",
   "execution_count": 35,
   "metadata": {
    "ExecuteTime": {
     "end_time": "2023-05-19T06:31:32.836414Z",
     "start_time": "2023-05-19T06:31:31.181747Z"
    }
   },
   "outputs": [],
   "source": [
    "test_pairs = pd.read_parquet(\"hackathon_files_for_participants_ozon/test_pairs_wo_target.parquet\")\n",
    "test_etl = pd.read_parquet(\"hackathon_files_for_participants_ozon/test_data.parquet\")"
   ]
  },
  {
   "cell_type": "markdown",
   "metadata": {},
   "source": [
    "Generate the same features as for train"
   ]
  },
  {
   "cell_type": "code",
   "execution_count": 36,
   "metadata": {
    "ExecuteTime": {
     "end_time": "2023-05-19T06:31:44.061466Z",
     "start_time": "2023-05-19T06:31:44.008543Z"
    }
   },
   "outputs": [],
   "source": [
    "test_features = (\n",
    "    test_pairs\n",
    "    .merge(\n",
    "        test_etl\n",
    "        .add_suffix('1'),\n",
    "        on=\"variantid1\"\n",
    "    )\n",
    "    .merge(\n",
    "        test_etl\n",
    "        .add_suffix('2'),\n",
    "        on=\"variantid2\"\n",
    "    )\n",
    ")"
   ]
  },
  {
   "cell_type": "code",
   "execution_count": 37,
   "metadata": {
    "ExecuteTime": {
     "end_time": "2023-05-19T06:32:25.287137Z",
     "start_time": "2023-05-19T06:32:10.342926Z"
    }
   },
   "outputs": [],
   "source": [
    "test_features[[\"pic_dist_0_perc\", \"pic_dist_25_perc\", \"pic_dist_50_perc\"]] = (\n",
    "    test_features[[\"main_pic_embeddings_resnet_v11\", \"main_pic_embeddings_resnet_v12\"]].apply(\n",
    "        lambda x: pd.Series(get_pic_features_func(*x)), axis=1\n",
    "    )\n",
    ")\n",
    "\n",
    "test_features[[\"euclidean_name_bert_dist\", \"cosine_name_bert_dist\"]] = (\n",
    "    test_features[[\"name_bert_641\", \"name_bert_642\"]].apply(\n",
    "        lambda x: pd.Series(text_dense_distances(*x)), axis=1\n",
    "    )\n",
    ")"
   ]
  },
  {
   "cell_type": "code",
   "execution_count": 38,
   "metadata": {
    "ExecuteTime": {
     "end_time": "2023-05-19T06:32:34.415102Z",
     "start_time": "2023-05-19T06:32:34.354763Z"
    }
   },
   "outputs": [],
   "source": [
    "test_features[\"cat3\"] = test_features[\"categories1\"].apply(lambda x: json.loads(x)[\"3\"])"
   ]
  },
  {
   "cell_type": "code",
   "execution_count": 39,
   "metadata": {
    "ExecuteTime": {
     "end_time": "2023-05-19T06:32:37.601571Z",
     "start_time": "2023-05-19T06:32:37.596721Z"
    }
   },
   "outputs": [
    {
     "data": {
      "text/plain": [
       "(18084, 22)"
      ]
     },
     "execution_count": 39,
     "metadata": {},
     "output_type": "execute_result"
    }
   ],
   "source": [
    "test_features.shape"
   ]
  },
  {
   "cell_type": "code",
   "execution_count": 40,
   "metadata": {
    "ExecuteTime": {
     "end_time": "2023-05-19T06:32:40.679595Z",
     "start_time": "2023-05-19T06:32:40.668656Z"
    }
   },
   "outputs": [
    {
     "data": {
      "text/plain": [
       "537"
      ]
     },
     "execution_count": 40,
     "metadata": {},
     "output_type": "execute_result"
    }
   ],
   "source": [
    "test_cat3_counts = test_features[\"cat3\"].value_counts().to_dict()\n",
    "\n",
    "cntr = 0\n",
    "for cat3 in test_cat3_counts:\n",
    "    if test_cat3_counts[cat3] < 50:\n",
    "        cntr += test_cat3_counts[cat3]\n",
    "        \n",
    "cntr"
   ]
  },
  {
   "cell_type": "code",
   "execution_count": 41,
   "metadata": {
    "ExecuteTime": {
     "end_time": "2023-05-19T06:34:07.170273Z",
     "start_time": "2023-05-19T06:34:07.157474Z"
    }
   },
   "outputs": [],
   "source": [
    "test_features[\"cat3_grouped\"] = test_features[\"cat3\"].apply(lambda x: x if test_cat3_counts[x] > 50 else \"rest\")\n",
    "# btw you can rename to `rest` the same categories that were assigned to this group in train"
   ]
  },
  {
   "cell_type": "code",
   "execution_count": 42,
   "metadata": {
    "ExecuteTime": {
     "end_time": "2023-05-19T06:34:11.446732Z",
     "start_time": "2023-05-19T06:34:11.382287Z"
    }
   },
   "outputs": [],
   "source": [
    "submission_example = test_features.copy()"
   ]
  },
  {
   "cell_type": "code",
   "execution_count": 43,
   "metadata": {
    "ExecuteTime": {
     "end_time": "2023-05-19T06:34:14.146730Z",
     "start_time": "2023-05-19T06:34:14.086525Z"
    }
   },
   "outputs": [],
   "source": [
    "submission_example[\"scores\"] = model.predict_proba(test_features[feats])[:, 1]"
   ]
  },
  {
   "cell_type": "code",
   "execution_count": 44,
   "metadata": {
    "ExecuteTime": {
     "end_time": "2023-05-19T06:34:17.373009Z",
     "start_time": "2023-05-19T06:34:17.357230Z"
    }
   },
   "outputs": [],
   "source": [
    "submission_example = submission_example[[\"variantid1\", \"variantid2\", \"scores\"]]"
   ]
  },
  {
   "cell_type": "code",
   "execution_count": 46,
   "metadata": {
    "ExecuteTime": {
     "end_time": "2023-05-19T06:35:41.877989Z",
     "start_time": "2023-05-19T06:35:41.794727Z"
    }
   },
   "outputs": [],
   "source": [
    "submission_example.drop_duplicates().merge(\n",
    "    test_features[[\"variantid1\", \"variantid2\"]].drop_duplicates([\"variantid1\", \"variantid2\"]),\n",
    "    on=[\"variantid1\", \"variantid2\"]\n",
    ").to_csv(\"submission_example.csv\", index=False)"
   ]
  },
  {
   "cell_type": "markdown",
   "metadata": {},
   "source": [
    "Upload your submission to leaderboard :)"
   ]
  },
  {
   "cell_type": "markdown",
   "metadata": {},
   "source": [
    "### Recommendations \n",
    "\n",
    "- Work with names, in electronics names often contain a lot of useful information for matching.\n",
    "- Don't forget about attributes: working with it will allow your model to better distinguish matches from non-matches."
   ]
  }
 ],
 "metadata": {
  "kernelspec": {
   "display_name": "Python 3",
   "language": "python",
   "name": "python3"
  },
  "language_info": {
   "codemirror_mode": {
    "name": "ipython",
    "version": 3
   },
   "file_extension": ".py",
   "mimetype": "text/x-python",
   "name": "python",
   "nbconvert_exporter": "python",
   "pygments_lexer": "ipython3",
   "version": "3.7.6"
  }
 },
 "nbformat": 4,
 "nbformat_minor": 4
}
